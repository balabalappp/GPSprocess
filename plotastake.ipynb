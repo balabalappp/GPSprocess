{
  "cells": [
    {
      "cell_type": "code",
      "source": [
        "import pandas as pd\n",
        "from matplotlib import pyplot as plt\n",
        "import numpy as np\n",
        "import datetime\n",
        "import pyproj\n",
        "\n",
        "D = pd.read_excel(r'C:\\Users\\ag\\HugeData\\EGRIP GPS\\GPSprocess\\output\\summary.xlsx')\n",
        "stake = 'EG-C-500'\n",
        "\n",
        "pstereo = pyproj.Proj('+init=EPSG:3413 +units=m')#+proj=stere +lat_0=90 +lat_ts=70 +lon_0=-45 +k=1 +x_0=1 +y_0=1 +datum=WGS84 +units=m +no_defs')\n",
        "\n\n",
        "D['x'],D['y'] = pstereo(D['lon'].values,D['lat'].values)\n",
        "D = D.loc[D['id'] == stake]\n",
        "\n",
        "D.iloc[0]\n",
        "\n"
      ],
      "outputs": [
        {
          "output_type": "execute_result",
          "execution_count": 1,
          "data": {
            "text/plain": [
              "id                     EG-C-500\n",
              "datetime    2016-07-29 21:55:30\n",
              "lat                     75.8122\n",
              "lon                    -35.4564\n",
              "z                       2669.13\n",
              "sigmaE                   0.0028\n",
              "sigmaN                   0.0034\n",
              "sigmaZ                   0.0069\n",
              "x                        256077\n",
              "y                  -1.52313e+06\n",
              "Name: 176, dtype: object"
            ]
          },
          "metadata": {}
        }
      ],
      "execution_count": 1,
      "metadata": {
        "collapsed": false,
        "outputHidden": false,
        "inputHidden": false
      }
    },
    {
      "cell_type": "code",
      "source": [
        "t = (D['datetime']-datetime.datetime(2015,1,1))/datetime.timedelta(days=365.25)\n",
        "D['x'] = D['x']-D.iloc[0]['x']\n",
        "D['y'] = D['y']-D.iloc[0]['y']\n",
        "\n",
        "dist=np.sqrt(D['y']**2+D['x']**2)\n",
        "\n",
        "py=np.polyfit(t,D['y'],1,w = 1/D['sigmaN'])\n",
        "px=np.polyfit(t,D['x'],1,w = 1/D['sigmaE'])\n",
        "pdist=np.polyfit(t,dist,2,w = 1/D['sigmaE'])\n",
        "\n",
        "print(np.sqrt(px[0]**2+py[0]**2))\n",
        "print(pdist)"
      ],
      "outputs": [
        {
          "output_type": "stream",
          "name": "stdout",
          "text": [
            "58.36909454923694\n",
            "[ 1.11576409e-02  5.83112219e+01 -9.19454814e+01]\n"
          ]
        }
      ],
      "execution_count": 2,
      "metadata": {
        "collapsed": false,
        "outputHidden": false,
        "inputHidden": false
      }
    },
    {
      "cell_type": "code",
      "source": [
        "\n",
        "plt.plot(t,dist-np.polyval(pdist,t),'.')\n",
        "plt.grid()"
      ],
      "outputs": [
        {
          "output_type": "display_data",
          "data": {
            "text/plain": [
              "<matplotlib.figure.Figure at 0x1f62d9ff3c8>"
            ],
            "image/png": "[encoded data removed]"
          },
          "metadata": {}
        }
      ],
      "execution_count": 4,
      "metadata": {
        "collapsed": false,
        "outputHidden": false,
        "inputHidden": false
      }
    }
  ],
  "metadata": {
    "kernel_info": {
      "name": "python3"
    },
    "language_info": {
      "name": "python",
      "version": "3.6.4",
      "mimetype": "text/x-python",
      "codemirror_mode": {
        "name": "ipython",
        "version": 3
      },
      "pygments_lexer": "ipython3",
      "nbconvert_exporter": "python",
      "file_extension": ".py"
    },
    "kernelspec": {
      "name": "python3",
      "language": "python",
      "display_name": "Python 3"
    },
    "nteract": {
      "version": "0.11.6"
    }
  },
  "nbformat": 4,
  "nbformat_minor": 4
}